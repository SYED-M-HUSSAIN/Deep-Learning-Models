{
  "cells": [
    {
      "cell_type": "markdown",
      "source": [
        "**STANDARDIZATION**\n",
        "\n",
        "\n",
        "\n",
        "---\n",
        "\n",
        "\n",
        "\n"
      ],
      "metadata": {
        "id": "n-G0E_5v1Ln8"
      }
    },
    {
      "cell_type": "code",
      "source": [
        "from pydub import AudioSegment\n",
        "import os\n",
        "import time\n",
        "'''pad_ms = 15000 - 7000 # Add here the fix length you want (in milliseconds)\n",
        "audio = AudioSegment.from_wav('1-2.wav')\n",
        "assert pad_ms > len(audio), \"Audio was longer that 1 second\"\n",
        "silence = AudioSegment.silent(duration=pad_ms-len(audio)+1)\n",
        "\n",
        "padded = audio + silence  # Adding silence after the audio\n",
        "padded.export('padded-file.wav', format='wav')'''\n",
        "count =0\n",
        "entries = os.listdir('/home/hussain/Desktop/stand')\n",
        "for entry in entries:\n",
        "     game = os.listdir(f'/home/hussain/Desktop/stand/{entry}')\n",
        "     \n",
        "     for x in game:\n",
        "        pad_ms = 15000 - 7000 # Add here the fix length you want (in milliseconds)\n",
        "        audio = AudioSegment.from_wav(f'/home/hussain/Desktop/stand/{entry}/{x}')\n",
        "        assert pad_ms > len(audio), \"Audio was longer that 1 second\"\n",
        "        silence = AudioSegment.silent(duration=pad_ms-len(audio)+1)\n",
        "\n",
        "        padded = audio + silence  # Adding silence after the audio\n",
        "        padded.export(f'{entry}+{count}', format='wav')\n",
        "        print(f'{entry}')\n",
        "        count+=1\n",
        "     time.sleep(2)\n",
        "        "
      ],
      "metadata": {
        "id": "hkeUWF-H1ETQ"
      },
      "execution_count": null,
      "outputs": []
    },
    {
      "cell_type": "markdown",
      "source": [
        "**OVERLAPPING BACKGROUND (NOISE)**\n",
        "\n",
        "---\n",
        "\n"
      ],
      "metadata": {
        "id": "W8DPPtsU1cUQ"
      }
    },
    {
      "cell_type": "code",
      "source": [
        "from pydub import AudioSegment\n",
        "def Add_Noise(file1,file2)\n",
        "  sound1 = AudioSegment.from_file(file1) # file1 = alif.wav\n",
        "  sound2 = AudioSegment.from_file(file2) # file2 = noise.wav\n",
        "\n",
        "  combined = sound1.overlay(sound2) # combined noise and actual voice\n",
        "\n",
        "  combined.export(\"mix.wav\", format='wav')# generate new sound file with noise"
      ],
      "metadata": {
        "id": "6PO02RDFoN0p"
      },
      "execution_count": null,
      "outputs": []
    }
  ],
  "metadata": {
    "colab": {
      "toc_visible": true,
      "provenance": []
    },
    "kernelspec": {
      "display_name": "Python 3",
      "name": "python3"
    }
  },
  "nbformat": 4,
  "nbformat_minor": 0
}